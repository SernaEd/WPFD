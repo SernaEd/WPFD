{
 "cells": [
  {
   "metadata": {},
   "cell_type": "markdown",
   "source": "# Condiciones iniciales y setup",
   "id": "fe04751c26368ce9"
  },
  {
   "metadata": {},
   "cell_type": "markdown",
   "source": "## Obtención de constantes",
   "id": "9285610137e3f8df"
  },
  {
   "metadata": {
    "ExecuteTime": {
     "end_time": "2024-04-19T21:58:09.247238Z",
     "start_time": "2024-04-19T21:58:09.237172Z"
    }
   },
   "cell_type": "code",
   "source": [
    "%%writefile constants.py\n",
    "\n",
    "from configparser import ConfigParser\n",
    "\n",
    "constants = ConfigParser()\n",
    "constants.read('../constants.ini')\n",
    "constants.sections()\n",
    "\n",
    "xi_1 = complex(constants.get('DEFAULTPARAMETERS', 'xi_1'))\n",
    "xi_2 = complex(constants.get('DEFAULTPARAMETERS', 'xi_2'))\n",
    "box_size = int(constants.get('DEFAULTPARAMETERS', 'box_size'))\n",
    "step_x = int(constants.get('DEFAULTPARAMETERS', 'step_x'))\n",
    "wp_width = float(constants.get('DEFAULTPARAMETERS', 'wp_width'))\n",
    "wp_position = float(constants.get('DEFAULTPARAMETERS', 'wp_position'))\n",
    "k_0 = float(constants.get('DEFAULTPARAMETERS', 'k_0'))\n",
    "\n",
    "b_position = int(constants.get('DEFAULTPARAMETERS', 'b_position'))\n",
    "b_width = int(constants.get('DEFAULTPARAMETERS', 'b_width'))\n",
    "b_height = float(constants.get('DEFAULTPARAMETERS', 'b_height'))\n",
    "\n",
    "step_t = float(constants.get('DEFAULTPARAMETERS', 'step_t'))\n"
   ],
   "id": "1a5c4444236ae9b",
   "outputs": [
    {
     "name": "stdout",
     "output_type": "stream",
     "text": [
      "Overwriting constants.py\n"
     ]
    }
   ],
   "execution_count": 1
  },
  {
   "metadata": {},
   "cell_type": "markdown",
   "source": [
    "## Definición de funciones\n",
    "\n",
    "A continuación definimos el paquete de ondas Gaussiano para cada componente:"
   ],
   "id": "36d0ae8ab728ee40"
  },
  {
   "metadata": {
    "ExecuteTime": {
     "end_time": "2024-04-19T21:58:09.252821Z",
     "start_time": "2024-04-19T21:58:09.249787Z"
    }
   },
   "cell_type": "code",
   "source": [
    "%%writefile initial_functions.py\n",
    "\n",
    "import numpy as np\n",
    "from math import exp, pi, sqrt\n",
    "\n",
    "\n",
    "def gaussian_component_1d(x_array, xi, sigma, x0, k0):\n",
    "    result_array = np.zeros_like(x_array, dtype=complex)\n",
    "    amplitude = xi / (sigma ** 2 * pi) ** (1 / 4)\n",
    "    \n",
    "    for i in range(len(x_array)):\n",
    "        real_part = exp(-(x_array[i]-x0)**2/(2*sigma**2))\n",
    "        imag_part = exp(1j * x_array[i] * k0)\n",
    "        result_array[i] = amplitude * real_part * imag_part\n",
    "        \n",
    "    return result_array\n",
    "\n",
    "def gaussian_wp_init(box_width, delta_x, xi_a, xi_b, sigma, x0, k0):\n",
    "    x_array = np.arange(0, box_width, delta_x, dtype=float)\n",
    "    coefficient = 1 / sqrt(xi_a^2 + xi_b^2)\n",
    "    \n",
    "    psi_1 = gaussian_component_1d(x_array, xi_a, sigma, x0, k0)\n",
    "    psi_2 = gaussian_component_1d(x_array, xi_b, sigma, x0, k0)\n",
    "    \n",
    "    psi_1 = psi_1 * coefficient\n",
    "    psi_2 = psi_2 * coefficient\n",
    "    \n",
    "    psi_1[0] = 0 + 0j\n",
    "    psi_2[0] = 0 + 0j\n",
    "    \n",
    "    psi_1[-1] = 0 + 0j\n",
    "    psi_2[-1] = 0 + 0j\n",
    "    \n",
    "    gaussian_wp = [psi_1, psi_2]\n",
    "\n",
    "    return gaussian_wp\n",
    "\n",
    "def discrete_potential(box_width, delta_x, b_starting_position, b_length,):\n",
    "    n_elements = int(box_width / delta_x)\n",
    "    v = np.zeros(n_elements, dtype=float)\n",
    "    \n",
    "    for i in range(n_elements):\n",
    "        if b_starting_position <= i <= b_starting_position + b_length:\n",
    "            v[i] = b_height"
   ],
   "id": "9582352fc0b54741",
   "outputs": [
    {
     "name": "stdout",
     "output_type": "stream",
     "text": [
      "Overwriting initial_functions.py\n"
     ]
    }
   ],
   "execution_count": 2
  }
 ],
 "metadata": {
  "kernelspec": {
   "display_name": "Python 3",
   "language": "python",
   "name": "python3"
  },
  "language_info": {
   "codemirror_mode": {
    "name": "ipython",
    "version": 2
   },
   "file_extension": ".py",
   "mimetype": "text/x-python",
   "name": "python",
   "nbconvert_exporter": "python",
   "pygments_lexer": "ipython2",
   "version": "2.7.6"
  }
 },
 "nbformat": 4,
 "nbformat_minor": 5
}
