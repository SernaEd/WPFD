{
 "cells": [
  {
   "metadata": {},
   "cell_type": "markdown",
   "source": "# Initial Conditions and Setup",
   "id": "fe04751c26368ce9"
  },
  {
   "metadata": {},
   "cell_type": "markdown",
   "source": "## Imports",
   "id": "d67234268ee9a5db"
  },
  {
   "metadata": {},
   "cell_type": "code",
   "outputs": [],
   "execution_count": null,
   "source": "from cmath import sqrt, pi, exp",
   "id": "2662f5bfbaf9de01"
  },
  {
   "metadata": {},
   "cell_type": "markdown",
   "source": "## Function definitions ",
   "id": "9285610137e3f8df"
  },
  {
   "metadata": {},
   "cell_type": "code",
   "outputs": [],
   "execution_count": null,
   "source": [
    "def gaussian_wave_packet_1d(x_array, xi, sigma, x0, k0, y_array):\n",
    "    amplitude = xi / (sigma * sqrt(pi))\n",
    "    \n",
    "    for i in range(len(x_array)):\n",
    "        real_part = exp(-(x_array[i]-x0)**2/(2*sigma**2))\n",
    "        imag_part = exp(1j * (x_array[i]-x0) * k0)\n",
    "        y_array[i] = amplitude * real_part * imag_part\n",
    "    \n"
   ],
   "id": "9582352fc0b54741"
  }
 ],
 "metadata": {
  "kernelspec": {
   "display_name": "Python 3",
   "language": "python",
   "name": "python3"
  },
  "language_info": {
   "codemirror_mode": {
    "name": "ipython",
    "version": 2
   },
   "file_extension": ".py",
   "mimetype": "text/x-python",
   "name": "python",
   "nbconvert_exporter": "python",
   "pygments_lexer": "ipython2",
   "version": "2.7.6"
  }
 },
 "nbformat": 4,
 "nbformat_minor": 5
}
