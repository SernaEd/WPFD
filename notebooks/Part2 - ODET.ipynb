{
 "cells": [
  {
   "metadata": {},
   "cell_type": "markdown",
   "source": "# Definición de las matrices de diferencias finitas",
   "id": "9136e0824311dd1"
  },
  {
   "cell_type": "code",
   "id": "initial_id",
   "metadata": {
    "collapsed": true
   },
   "source": [
    "import numpy as np\n",
    "\n",
    "import notebooks.constants as cts"
   ],
   "outputs": [],
   "execution_count": null
  },
  {
   "metadata": {},
   "cell_type": "code",
   "source": [
    "def square_three_band_matrix(band1, band2, band3, size):\n",
    "    matrix = np.zeros((size, size))\n",
    "    np.fill_diagonal(matrix, band2)\n",
    "    np.fill_diagonal(matrix[1:], band1)\n",
    "    np.fill_diagonal(matrix[:, 1:], band3)\n",
    "    return matrix\n",
    "\n",
    "def solve_equation_system(constants_matrix, initial):\n",
    "    return np.linalg.solve(constants_matrix, initial)\n",
    "\n",
    "def next_psi(phi_n, psi_n):\n",
    "    return phi_n - psi_n\n",
    "\n",
    "def temporal_evolution():\n",
    "    c_1 = (1j * cts.step_t / 2 * h_bar)\n",
    "    constants_matrix = square_three_band_matrix()"
   ],
   "id": "dce402ec259ae45f",
   "outputs": [],
   "execution_count": null
  },
  {
   "metadata": {},
   "cell_type": "code",
   "source": "",
   "id": "d58015912a54d32c",
   "outputs": [],
   "execution_count": null
  }
 ],
 "metadata": {
  "kernelspec": {
   "display_name": "Python 3",
   "language": "python",
   "name": "python3"
  },
  "language_info": {
   "codemirror_mode": {
    "name": "ipython",
    "version": 2
   },
   "file_extension": ".py",
   "mimetype": "text/x-python",
   "name": "python",
   "nbconvert_exporter": "python",
   "pygments_lexer": "ipython2",
   "version": "2.7.6"
  }
 },
 "nbformat": 4,
 "nbformat_minor": 5
}
